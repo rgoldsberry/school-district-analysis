{
 "cells": [
  {
   "cell_type": "code",
   "execution_count": 1,
   "id": "a6bd4e1d",
   "metadata": {},
   "outputs": [],
   "source": [
    "import pandas as pd\n",
    "import os"
   ]
  },
  {
   "cell_type": "code",
   "execution_count": 2,
   "id": "77f32e18",
   "metadata": {},
   "outputs": [],
   "source": [
    "# Files to load\n",
    "\n",
    "\n",
    "student_data_load = os.path.join(\"Resources\", \"students_complete.csv\")\n",
    "student_data_load2 = os.path.join(\"Resources\", \"clean_students_complete.csv\")"
   ]
  },
  {
   "cell_type": "code",
   "execution_count": 3,
   "id": "d4fc2dd5",
   "metadata": {},
   "outputs": [],
   "source": [
    "#Make dFs\n",
    "\n",
    "students_df = pd.read_csv(student_data_load)\n",
    "#students_df"
   ]
  },
  {
   "cell_type": "code",
   "execution_count": 4,
   "id": "161fc8f4",
   "metadata": {},
   "outputs": [
    {
     "name": "stderr",
     "output_type": "stream",
     "text": [
      "C:\\Users\\ryang\\anaconda3\\envs\\PyhtonData\\lib\\site-packages\\ipykernel_launcher.py:6: FutureWarning: The default value of regex will change from True to False in a future version.\n",
      "  \n"
     ]
    }
   ],
   "source": [
    "#fixing names\n",
    "\n",
    "prefix_suffix = [\"Dr. \", \"Mr. \",\"Ms. \", \"Mrs. \", \"Miss \", \" MD\", \" DDS\", \" DVM\", \" PhD\"]\n",
    "\n",
    "for word in prefix_suffix:\n",
    "    students_df.student_name = students_df.student_name.str.replace(word,\"\")"
   ]
  },
  {
   "cell_type": "code",
   "execution_count": 10,
   "id": "0f5c3707",
   "metadata": {},
   "outputs": [
    {
     "name": "stdout",
     "output_type": "stream",
     "text": [
      "   Unnamed: 0  Student ID     student_name gender grade        school_name  \\\n",
      "0           0           0     Paul Bradley      M   9th  Huang High School   \n",
      "1           1           1     Victor Smith      M  12th  Huang High School   \n",
      "2           2           2  Kevin Rodriguez      M  12th  Huang High School   \n",
      "3           3           3    Richard Scott      M  12th  Huang High School   \n",
      "4           4           4       Bonnie Ray      F   9th  Huang High School   \n",
      "\n",
      "   reading_score  math_score  \n",
      "0             66          79  \n",
      "1             94          61  \n",
      "2             90          60  \n",
      "3             67          58  \n",
      "4             97          84  \n",
      "   Student ID     student_name gender grade        school_name  reading_score  \\\n",
      "0           0     Paul Bradley      M   9th  Huang High School             66   \n",
      "1           1     Victor Smith      M  12th  Huang High School             94   \n",
      "2           2  Kevin Rodriguez      M  12th  Huang High School             90   \n",
      "3           3    Richard Scott      M  12th  Huang High School             67   \n",
      "4           4       Bonnie Ray      F   9th  Huang High School             97   \n",
      "\n",
      "   math_score  \n",
      "0          79  \n",
      "1          61  \n",
      "2          60  \n",
      "3          58  \n",
      "4          84  \n"
     ]
    }
   ],
   "source": [
    "student_download_df = pd.read_csv(student_data_load2)\n",
    "\n",
    "print(student_download_df.head())\n",
    "print(students_df.head())"
   ]
  },
  {
   "cell_type": "code",
   "execution_count": 6,
   "id": "d051613c",
   "metadata": {},
   "outputs": [
    {
     "data": {
      "text/plain": [
       "False"
      ]
     },
     "execution_count": 6,
     "metadata": {},
     "output_type": "execute_result"
    }
   ],
   "source": [
    "student_download_df.equals(students_df)"
   ]
  },
  {
   "cell_type": "markdown",
   "id": "3095e8e4",
   "metadata": {},
   "source": [
    "download_names = student_download_df.student_name.tolist()\n",
    "clean_names = students_df.student_name.tolist()"
   ]
  },
  {
   "cell_type": "code",
   "execution_count": 13,
   "id": "c9540137",
   "metadata": {},
   "outputs": [
    {
     "name": "stdout",
     "output_type": "stream",
     "text": [
      "39170\n",
      "39170\n"
     ]
    }
   ],
   "source": [
    "print(len(download_names))\n",
    "print(len(clean_names))"
   ]
  },
  {
   "cell_type": "code",
   "execution_count": 14,
   "id": "1089e5cc",
   "metadata": {},
   "outputs": [
    {
     "name": "stdout",
     "output_type": "stream",
     "text": [
      "0\n"
     ]
    },
    {
     "data": {
      "text/plain": [
       "[]"
      ]
     },
     "execution_count": 14,
     "metadata": {},
     "output_type": "execute_result"
    }
   ],
   "source": [
    "huh = []\n",
    "for i in range(len(download_names)):\n",
    "    if download_names[i] != clean_names[i]:\n",
    "        huh.append([download_names[i],clean_names[i]])\n",
    "\n",
    "print(len(huh))\n",
    "huh"
   ]
  }
 ],
 "metadata": {
  "kernelspec": {
   "display_name": "PythonData",
   "language": "python",
   "name": "pythondata"
  },
  "language_info": {
   "codemirror_mode": {
    "name": "ipython",
    "version": 3
   },
   "file_extension": ".py",
   "mimetype": "text/x-python",
   "name": "python",
   "nbconvert_exporter": "python",
   "pygments_lexer": "ipython3",
   "version": "3.7.13"
  }
 },
 "nbformat": 4,
 "nbformat_minor": 5
}
