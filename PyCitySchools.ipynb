{
 "cells": [
  {
   "cell_type": "code",
   "execution_count": 10,
   "id": "a6bd4e1d",
   "metadata": {},
   "outputs": [],
   "source": [
    "import pandas as pd\n",
    "import os"
   ]
  },
  {
   "cell_type": "code",
   "execution_count": 11,
   "id": "77f32e18",
   "metadata": {},
   "outputs": [],
   "source": [
    "# Files to load\n",
    "\n",
    "school_data_load = os.path.join(\"Resources\", \"schools_complete.csv\")\n",
    "student_data_load = os.path.join(\"Resources\", \"students_complete.csv\")"
   ]
  },
  {
   "cell_type": "code",
   "execution_count": 14,
   "id": "d4fc2dd5",
   "metadata": {},
   "outputs": [],
   "source": [
    "#Make dFs\n",
    "\n",
    "schools_df = pd.read_csv(school_data_load)\n",
    "#schools_df\n",
    "\n",
    "students_df = pd.read_csv(student_data_load)\n",
    "#students_df"
   ]
  },
  {
   "cell_type": "code",
   "execution_count": null,
   "id": "7951024b",
   "metadata": {},
   "outputs": [],
   "source": []
  }
 ],
 "metadata": {
  "kernelspec": {
   "display_name": "PythonData",
   "language": "python",
   "name": "pythondata"
  },
  "language_info": {
   "codemirror_mode": {
    "name": "ipython",
    "version": 3
   },
   "file_extension": ".py",
   "mimetype": "text/x-python",
   "name": "python",
   "nbconvert_exporter": "python",
   "pygments_lexer": "ipython3",
   "version": "3.7.13"
  }
 },
 "nbformat": 4,
 "nbformat_minor": 5
}
